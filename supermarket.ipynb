{
 "cells": [
  {
   "cell_type": "code",
   "execution_count": 4,
   "id": "7501c565-0da4-4df4-802b-15ca735953ad",
   "metadata": {},
   "outputs": [
    {
     "name": "stdout",
     "output_type": "stream",
     "text": [
      "1. Buy Product\n",
      "2. Update Stock\n",
      "3. Exit\n"
     ]
    },
    {
     "name": "stdin",
     "output_type": "stream",
     "text": [
      "Enter your choice:  1\n"
     ]
    },
    {
     "name": "stdout",
     "output_type": "stream",
     "text": [
      "Available Products:\n",
      "         Product  Quantity     Price         Category   Unit\n",
      "0          Apple       200  1.000000            Fruit     kg\n",
      "1         Banana       300  0.500000            Fruit     kg\n",
      "2         Orange       240  1.333333            Fruit     kg\n",
      "3           Milk        20  3.000000            Dairy  liter\n",
      "4          Bread       100  1.500000           Bakery  pound\n",
      "5         Carrot       160  1.000000        Vegetable     kg\n",
      "6         Tomato       180  0.750000        Vegetable     kg\n",
      "7        Spinach       140  1.250000        Vegetable     kg\n",
      "8      Chocolate        50  2.500000            Snack   pack\n",
      "9        Cookies        60  1.750000            Snack   pack\n",
      "10        Grapes       120  1.666667            Fruit     kg\n",
      "11      Broccoli       100  1.800000        Vegetable     kg\n",
      "12        Potato       150  1.000000        Vegetable     kg\n",
      "13         Onion       200  1.500000        Vegetable     kg\n",
      "14          Rice        80  4.000000            Grain     kg\n",
      "15       Chicken       100  5.000000             Meat     kg\n",
      "16          Soap       150  2.000000  Home Essentials   pack\n",
      "17  Toilet Paper       100  3.500000  Home Essentials   pack\n",
      "18     Detergent        80  6.000000  Home Essentials   pack\n",
      "19           Pen        50  1.000000       Stationary   unit\n",
      "20      Notebook        60  2.500000       Stationary   unit\n",
      "21        Pencil        70  0.500000       Stationary   unit\n",
      "22        Eraser        80  0.250000       Stationary   unit\n",
      "23     Sharpener        90  0.750000       Stationary   unit\n",
      "24    Toothpaste       100  1.800000    Personal Care   unit\n",
      "25       Shampoo        80  4.500000    Personal Care  liter\n",
      "26   Conditioner        70  5.000000    Personal Care  liter\n",
      "27         Towel        50  8.000000  Home Essentials   unit\n",
      "28        Cheese        30  2.750000            Dairy     kg\n",
      "29        Yogurt        40  1.500000            Dairy   pack\n",
      "30         Sugar       100  2.000000        Groceries     kg\n",
      "31          Salt       120  1.000000        Groceries     kg\n",
      "32      Biscuits        60  2.500000            Snack   pack\n",
      "33           Tea        90  3.000000        Groceries     kg\n",
      "34        Coffee       110  4.000000        Groceries     kg\n",
      "\n"
     ]
    },
    {
     "name": "stdin",
     "output_type": "stream",
     "text": [
      "Enter the product you want to buy (or type 'done' to finish):  Notebook\n",
      "Enter the quantity of Notebook:  2\n"
     ]
    },
    {
     "name": "stdout",
     "output_type": "stream",
     "text": [
      "You have successfully bought 2.0 unit of Notebook for $5.00.\n"
     ]
    },
    {
     "name": "stdin",
     "output_type": "stream",
     "text": [
      "Enter the product you want to buy (or type 'done' to finish):  Cheese\n",
      "Enter the quantity of Cheese:  0.25\n"
     ]
    },
    {
     "name": "stdout",
     "output_type": "stream",
     "text": [
      "You have successfully bought 0.25 kg of Cheese for $0.69.\n"
     ]
    },
    {
     "name": "stdin",
     "output_type": "stream",
     "text": [
      "Enter the product you want to buy (or type 'done' to finish):  Chocolate\n",
      "Enter the quantity of Chocolate:  3\n"
     ]
    },
    {
     "name": "stdout",
     "output_type": "stream",
     "text": [
      "You have successfully bought 3.0 pack of Chocolate for $7.50.\n"
     ]
    },
    {
     "name": "stdin",
     "output_type": "stream",
     "text": [
      "Enter the product you want to buy (or type 'done' to finish):  Toothpaste\n",
      "Enter the quantity of Toothpaste:  2\n"
     ]
    },
    {
     "name": "stdout",
     "output_type": "stream",
     "text": [
      "You have successfully bought 2.0 unit of Toothpaste for $3.60.\n",
      "Offer: Added 2.0 free Soap(s) with your purchase of 2.0 Toothpaste(s).\n"
     ]
    },
    {
     "name": "stdin",
     "output_type": "stream",
     "text": [
      "Enter the product you want to buy (or type 'done' to finish):  Shampoo\n",
      "Enter the quantity of Shampoo:  0.5\n"
     ]
    },
    {
     "name": "stdout",
     "output_type": "stream",
     "text": [
      "You have successfully bought 0.5 liter of Shampoo for $2.25.\n"
     ]
    },
    {
     "name": "stdin",
     "output_type": "stream",
     "text": [
      "Enter the product you want to buy (or type 'done' to finish):  done\n"
     ]
    },
    {
     "name": "stdout",
     "output_type": "stream",
     "text": [
      "\n",
      "Purchased Items:\n",
      "      Product  Quantity  Total Price\n",
      "0    Notebook      2.00       5.0000\n",
      "1      Cheese      0.25       0.6875\n",
      "2   Chocolate      3.00       7.5000\n",
      "3  Toothpaste      2.00       3.6000\n",
      "4     Shampoo      0.50       2.2500\n",
      "\n",
      "Free Items:\n",
      "  Product  Quantity Total Price\n",
      "0    Soap       2.0           0\n",
      "\n",
      "Total bill for purchased items: $19.04\n",
      "\n",
      "\n",
      "1. Buy Product\n",
      "2. Update Stock\n",
      "3. Exit\n"
     ]
    },
    {
     "name": "stdin",
     "output_type": "stream",
     "text": [
      "Enter your choice:  2\n"
     ]
    },
    {
     "name": "stdout",
     "output_type": "stream",
     "text": [
      "Available Products:\n",
      "         Product  Quantity     Price         Category   Unit\n",
      "0          Apple    200.00  1.000000            Fruit     kg\n",
      "1         Banana    300.00  0.500000            Fruit     kg\n",
      "2         Orange    240.00  1.333333            Fruit     kg\n",
      "3           Milk     20.00  3.000000            Dairy  liter\n",
      "4          Bread    100.00  1.500000           Bakery  pound\n",
      "5         Carrot    160.00  1.000000        Vegetable     kg\n",
      "6         Tomato    180.00  0.750000        Vegetable     kg\n",
      "7        Spinach    140.00  1.250000        Vegetable     kg\n",
      "8      Chocolate     47.00  2.500000            Snack   pack\n",
      "9        Cookies     60.00  1.750000            Snack   pack\n",
      "10        Grapes    120.00  1.666667            Fruit     kg\n",
      "11      Broccoli    100.00  1.800000        Vegetable     kg\n",
      "12        Potato    150.00  1.000000        Vegetable     kg\n",
      "13         Onion    200.00  1.500000        Vegetable     kg\n",
      "14          Rice     80.00  4.000000            Grain     kg\n",
      "15       Chicken    100.00  5.000000             Meat     kg\n",
      "16          Soap    149.00  2.000000  Home Essentials   pack\n",
      "17  Toilet Paper    100.00  3.500000  Home Essentials   pack\n",
      "18     Detergent     80.00  6.000000  Home Essentials   pack\n",
      "19           Pen     50.00  1.000000       Stationary   unit\n",
      "20      Notebook     58.00  2.500000       Stationary   unit\n",
      "21        Pencil     70.00  0.500000       Stationary   unit\n",
      "22        Eraser     80.00  0.250000       Stationary   unit\n",
      "23     Sharpener     90.00  0.750000       Stationary   unit\n",
      "24    Toothpaste     98.00  1.800000    Personal Care   unit\n",
      "25       Shampoo     79.50  4.500000    Personal Care  liter\n",
      "26   Conditioner     70.00  5.000000    Personal Care  liter\n",
      "27         Towel     50.00  8.000000  Home Essentials   unit\n",
      "28        Cheese     29.75  2.750000            Dairy     kg\n",
      "29        Yogurt     40.00  1.500000            Dairy   pack\n",
      "30         Sugar    100.00  2.000000        Groceries     kg\n",
      "31          Salt    120.00  1.000000        Groceries     kg\n",
      "32      Biscuits     60.00  2.500000            Snack   pack\n",
      "33           Tea     90.00  3.000000        Groceries     kg\n",
      "34        Coffee    110.00  4.000000        Groceries     kg\n",
      "\n"
     ]
    },
    {
     "name": "stdin",
     "output_type": "stream",
     "text": [
      "Enter the product you want to update:  Milk\n",
      "Enter the quantity you want to add (liter):  50\n"
     ]
    },
    {
     "name": "stdout",
     "output_type": "stream",
     "text": [
      "Stock for Milk has been updated by 50.\n",
      "\n",
      "Available Products:\n",
      "         Product  Quantity     Price         Category   Unit\n",
      "0          Apple    200.00  1.000000            Fruit     kg\n",
      "1         Banana    300.00  0.500000            Fruit     kg\n",
      "2         Orange    240.00  1.333333            Fruit     kg\n",
      "3           Milk     70.00  3.000000            Dairy  liter\n",
      "4          Bread    100.00  1.500000           Bakery  pound\n",
      "5         Carrot    160.00  1.000000        Vegetable     kg\n",
      "6         Tomato    180.00  0.750000        Vegetable     kg\n",
      "7        Spinach    140.00  1.250000        Vegetable     kg\n",
      "8      Chocolate     47.00  2.500000            Snack   pack\n",
      "9        Cookies     60.00  1.750000            Snack   pack\n",
      "10        Grapes    120.00  1.666667            Fruit     kg\n",
      "11      Broccoli    100.00  1.800000        Vegetable     kg\n",
      "12        Potato    150.00  1.000000        Vegetable     kg\n",
      "13         Onion    200.00  1.500000        Vegetable     kg\n",
      "14          Rice     80.00  4.000000            Grain     kg\n",
      "15       Chicken    100.00  5.000000             Meat     kg\n",
      "16          Soap    149.00  2.000000  Home Essentials   pack\n",
      "17  Toilet Paper    100.00  3.500000  Home Essentials   pack\n",
      "18     Detergent     80.00  6.000000  Home Essentials   pack\n",
      "19           Pen     50.00  1.000000       Stationary   unit\n",
      "20      Notebook     58.00  2.500000       Stationary   unit\n",
      "21        Pencil     70.00  0.500000       Stationary   unit\n",
      "22        Eraser     80.00  0.250000       Stationary   unit\n",
      "23     Sharpener     90.00  0.750000       Stationary   unit\n",
      "24    Toothpaste     98.00  1.800000    Personal Care   unit\n",
      "25       Shampoo     79.50  4.500000    Personal Care  liter\n",
      "26   Conditioner     70.00  5.000000    Personal Care  liter\n",
      "27         Towel     50.00  8.000000  Home Essentials   unit\n",
      "28        Cheese     29.75  2.750000            Dairy     kg\n",
      "29        Yogurt     40.00  1.500000            Dairy   pack\n",
      "30         Sugar    100.00  2.000000        Groceries     kg\n",
      "31          Salt    120.00  1.000000        Groceries     kg\n",
      "32      Biscuits     60.00  2.500000            Snack   pack\n",
      "33           Tea     90.00  3.000000        Groceries     kg\n",
      "34        Coffee    110.00  4.000000        Groceries     kg\n",
      "\n",
      "\n",
      "1. Buy Product\n",
      "2. Update Stock\n",
      "3. Exit\n"
     ]
    },
    {
     "name": "stdin",
     "output_type": "stream",
     "text": [
      "Enter your choice:  3\n"
     ]
    },
    {
     "name": "stdout",
     "output_type": "stream",
     "text": [
      "Exiting program.\n"
     ]
    }
   ],
   "source": [
    "import pandas as pd\n",
    "\n",
    "# Define initial products and their quantities\n",
    "initial_products = {\n",
    "    'Product': ['Apple', 'Banana', 'Orange', 'Milk', 'Bread', 'Carrot', 'Tomato', 'Spinach', 'Chocolate', 'Cookies',\n",
    "                'Grapes', 'Broccoli', 'Potato', 'Onion', 'Rice', 'Chicken', 'Soap', 'Toilet Paper', 'Detergent',\n",
    "                'Pen', 'Notebook', 'Pencil', 'Eraser', 'Sharpener', 'Toothpaste', 'Shampoo', 'Conditioner', 'Towel', 'Cheese', \n",
    "                'Yogurt', 'Sugar', 'Salt', 'Biscuits', 'Tea', 'Coffee'],\n",
    "    'Quantity': [200, 300, 240, 20, 100, 160, 180, 140, 50, 60, 120, 100, 150, 200, 80, 100, 150, 100, 80, 50, 60, 70, 80, 90, 100,80, 70, 50, 30, 40, 100, 120, 60, 90, 110],\n",
    "    'Price': [1.50, 0.75, 2.00, 3.00, 1.50, 1.00, 0.75, 1.25, 2.50, 1.75, 2.50, 1.80, 0.50, 0.75, 4.00, 5.00, 2.00, 3.50, 6.00,\n",
    "              1.00, 2.50, 0.50, 0.25, 0.75, 1.80, 4.50, 5.00, 8.00, 2.75, 1.50, 2.00, 1.00, 2.50, 3.00, 4.00],\n",
    "    'Category': ['Fruit', 'Fruit', 'Fruit', 'Dairy', 'Bakery', 'Vegetable', 'Vegetable', 'Vegetable', 'Snack', 'Snack',\n",
    "                 'Fruit', 'Vegetable', 'Vegetable', 'Vegetable', 'Grain', 'Meat', 'Home Essentials', 'Home Essentials', 'Home Essentials',\n",
    "                 'Stationary', 'Stationary', 'Stationary', 'Stationary', 'Stationary', 'Personal Care', 'Personal Care', 'Personal Care', 'Home Essentials', 'Dairy', 'Dairy', 'Groceries', 'Groceries', 'Snack', 'Groceries', 'Groceries'],\n",
    "    'Unit': ['kg', 'kg', 'kg', 'liter', 'pound', 'kg', 'kg', 'kg', 'pack', 'pack',\n",
    "             'kg', 'kg', 'kg', 'kg', 'kg', 'kg', 'pack', 'pack', 'pack', 'unit',\n",
    "             'unit', 'unit', 'unit', 'unit', 'unit', 'liter', 'liter', 'unit', 'kg', 'pack', 'kg', 'kg', 'pack', 'kg', 'kg']\n",
    "}\n",
    "\n",
    "# Create DataFrame for products\n",
    "df_products = pd.DataFrame(initial_products)\n",
    "\n",
    "# Fixing price per kg for applicable items\n",
    "df_products.loc[df_products['Product'].isin(['Apple', 'Banana', 'Orange', 'Grapes']), 'Price'] /= 1.5\n",
    "df_products.loc[df_products['Product'].isin(['Potato', 'Onion']), 'Price'] /= 0.5\n",
    "\n",
    "# Define offers\n",
    "offers = {\n",
    "   import pandas as pd\n",
    "\n",
    "# Define initial products and their quantities\n",
    "initial_products = {\n",
    "    'Product': ['Apple', 'Banana', 'Orange', 'Milk', 'Bread', 'Carrot', 'Tomato', 'Spinach', 'Chocolate', 'Cookies',\n",
    "                'Grapes', 'Broccoli', 'Potato', 'Onion', 'Rice', 'Chicken', 'Soap', 'Toilet Paper', 'Detergent',\n",
    "                'Pen', 'Notebook', 'Pencil', 'Eraser', 'Sharpener', 'Toothpaste', 'Shampoo', 'Conditioner', 'Towel', 'Cheese', \n",
    "                'Yogurt', 'Sugar', 'Salt', 'Biscuits', 'Tea', 'Coffee'],\n",
    "    'Quantity': [200, 300, 240, 20, 100, 160, 180, 140, 50, 60, 120, 100, 150, 200, 80, 100, 150, 100, 80, 50, 60, 70, 80, 90, 100,80, 70, 50, 30, 40, 100, 120, 60, 90, 110],\n",
    "    'Price': [1.50, 0.75, 2.00, 3.00, 1.50, 1.00, 0.75, 1.25, 2.50, 1.75, 2.50, 1.80, 0.50, 0.75, 4.00, 5.00, 2.00, 3.50, 6.00,\n",
    "              1.00, 2.50, 0.50, 0.25, 0.75, 1.80, 4.50, 5.00, 8.00, 2.75, 1.50, 2.00, 1.00, 2.50, 3.00, 4.00],\n",
    "    'Category': ['Fruit', 'Fruit', 'Fruit', 'Dairy', 'Bakery', 'Vegetable', 'Vegetable', 'Vegetable', 'Snack', 'Snack',\n",
    "                 'Fruit', 'Vegetable', 'Vegetable', 'Vegetable', 'Grain', 'Meat', 'Home Essentials', 'Home Essentials', 'Home Essentials',\n",
    "                 'Stationary', 'Stationary', 'Stationary', 'Stationary', 'Stationary', 'Personal Care', 'Personal Care', 'Personal Care', 'Home Essentials', 'Dairy', 'Dairy', 'Groceries', 'Groceries', 'Snack', 'Groceries', 'Groceries'],\n",
    "    'Unit': ['kg', 'kg', 'kg', 'liter', 'pound', 'kg', 'kg', 'kg', 'pack', 'pack',\n",
    "             'kg', 'kg', 'kg', 'kg', 'kg', 'kg', 'pack', 'pack', 'pack', 'unit',\n",
    "             'unit', 'unit', 'unit', 'unit', 'unit', 'liter', 'liter', 'unit', 'kg', 'pack', 'kg', 'kg', 'pack', 'kg', 'kg']\n",
    "}\n",
    "\n",
    "# Create DataFrame for products\n",
    "df_products = pd.DataFrame(initial_products)\n",
    "\n",
    "# Fixing price per kg for applicable items\n",
    "df_products.loc[df_products['Product'].isin(['Apple', 'Banana', 'Orange', 'Grapes']), 'Price'] /= 1.5\n",
    "df_products.loc[df_products['Product'].isin(['Potato', 'Onion']), 'Price'] /= 0.5\n",
    "\n",
    "# Define offers\n",
    "offers = {\n",
    "    global df_products\n",
    "    index = df_products[df_products['Product'] == product].index\n",
    "    if len(index) == 0:\n",
    "        print(\"Sorry, that product is not available.\")\n",
    "        return bill_df_purchased, bill_df_free, 0\n",
    "    current_quantity = df_products.loc[index, 'Quantity'].values[0]\n",
    "    if current_quantity < quantity:\n",
    "        print(\"Sorry, there is not enough stock for your request.\")\n",
    "        return bill_df_purchased, bill_df_free, 0\n",
    "    df_products.loc[index, 'Quantity'] -= quantity\n",
    "    price_per_unit = df_products.loc[index, 'Price'].values[0]\n",
    "    total_price = price_per_unit * quantity\n",
    "    print(f\"You have successfully bought {quantity} {df_products.loc[index, 'Unit'].values[0]} of {product} for ${total_price:.2f}.\")\n",
    "\n",
    "    # Apply offer if applicable\n",
    "    bill_df_purchased, bill_df_free = apply_offer(product, quantity, bill_df_purchased, bill_df_free)\n",
    "\n",
    "    bill_df_purchased = pd.concat([bill_df_purchased, pd.DataFrame({'Product': [product], 'Quantity': [quantity], 'Total Price': [total_price]})], ignore_index=True)\n",
    "    return bill_df_purchased, bill_df_free, total_price\n",
    "\n",
    "def update_stock(product, quantity):\n",
    "    \"\"\"Update stock for a product.\"\"\"\n",
    "    global df_products\n",
    "    index = df_products[df_products['Product'] == product].index\n",
    "    if len(index) == 0:\n",
    "        print(\"Sorry, that product is not available.\")\n",
    "        return\n",
    "    df_products.loc[index, 'Quantity'] += quantity\n",
    "    if df_products.loc[index, 'Quantity'].values[0] < 20:\n",
    "        print(f\"Warning: Stock for {product} is low. Please restock.\")\n",
    "    else:\n",
    "        print(f\"Stock for {product} has been updated by {quantity}.\")\n",
    "\n",
    "def simulate_purchase():\n",
    "    \"\"\"Simulate a purchase.\"\"\"\n",
    "    display_products()\n",
    "    total_bill = 0\n",
    "    bill_df_purchased = pd.DataFrame(columns=['Product', 'Quantity', 'Total Price'])\n",
    "    bill_df_free = pd.DataFrame(columns=['Product', 'Quantity', 'Total Price'])\n",
    "    while True:\n",
    "        product = input(\"Enter the product you want to buy (or type 'done' to finish): \")\n",
    "        if product.lower() == 'done':\n",
    "            break\n",
    "        if product not in df_products['Product'].tolist():\n",
    "            print(\"Invalid product! Please choose a product from the list.\")\n",
    "            continue\n",
    "        try:\n",
    "            quantity = float(input(f\"Enter the quantity of {product}: \"))\n",
    "        except ValueError:\n",
    "            print(\"Invalid input! Quantity must be a number.\")\n",
    "            continue\n",
    "        if quantity <= 0:\n",
    "            print(\"Invalid input! Quantity must be greater than zero.\")\n",
    "            continue    \n",
    "        bill_df_purchased, bill_df_free, product_price = buy_product(product, quantity, bill_df_purchased, bill_df_free)\n",
    "        total_bill += product_price\n",
    "    if not bill_df_purchased.empty:\n",
    "        print(\"\\nPurchased Items:\")\n",
    "        print(bill_df_purchased)\n",
    "    else:\n",
    "        print(\"No items purchased.\")\n",
    "    if not bill_df_free.empty:\n",
    "        print(\"\\nFree Items:\")\n",
    "        print(bill_df_free)\n",
    "    if not bill_df_purchased.empty:\n",
    "        print(f\"\\nTotal bill for purchased items: ${total_bill:.2f}\")\n",
    "    print()\n",
    "\n",
    "def simulate_stock_update():\n",
    "    \"\"\"Simulate updating stock.\"\"\"\n",
    "    display_products()\n",
    "    product = input(\"Enter the product you want to update: \")\n",
    "    quantity = int(input(f\"Enter the quantity you want to add ({df_products.loc[df_products['Product'] == product, 'Unit'].values[0]}): \"))\n",
    "    update_stock(product, quantity)\n",
    "    print()\n",
    "    display_products()\n",
    "\n",
    "def main():\n",
    "    \"\"\"Main function to run the supermarket simulation.\"\"\"\n",
    "    while True:\n",
    "        print(\"1. Buy Product\")\n",
    "        print(\"2. Update Stock\")\n",
    "        print(\"3. Exit\")\n",
    "        choice = input(\"Enter your choice: \")\n",
    "        if choice == '1':\n",
    "            simulate_purchase()\n",
    "        elif choice == '2':\n",
    "            simulate_stock_update()\n",
    "        elif choice == '3':\n",
    "            print(\"Exiting program.\")\n",
    "            break\n",
    "        else:\n",
    "            print(\"Invalid choice. Please enter a valid option.\")\n",
    "        print()\n",
    "\n",
    "if __name__ == \"__main__\":\n",
    "    main()\n"
   ]
  },
  {
   "cell_type": "code",
   "execution_count": null,
   "id": "3895b809-f2bf-4d52-94ee-514f5402324c",
   "metadata": {},
   "outputs": [],
   "source": []
  }
 ],
 "metadata": {
  "kernelspec": {
   "display_name": "anaconda-panel-2023.05-py310",
   "language": "python",
   "name": "conda-env-anaconda-panel-2023.05-py310-py"
  },
  "language_info": {
   "codemirror_mode": {
    "name": "ipython",
    "version": 3
   },
   "file_extension": ".py",
   "mimetype": "text/x-python",
   "name": "python",
   "nbconvert_exporter": "python",
   "pygments_lexer": "ipython3",
   "version": "3.11.5"
  }
 },
 "nbformat": 4,
 "nbformat_minor": 5
}
